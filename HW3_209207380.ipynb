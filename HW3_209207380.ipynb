{
  "cells": [
    {
      "cell_type": "markdown",
      "metadata": {
        "id": "WuOPS7SrEcnl"
      },
      "source": [
        "# Exercise 3\n",
        "All previous instructions hold. In addition, if you are using GPU, you must check that your code also runs on a CPU.\n",
        "\n",
        "**Make sure you use the best practices you learned in class**."
      ]
    },
    {
      "cell_type": "code",
      "execution_count": 1,
      "metadata": {
        "ExecuteTime": {
          "end_time": "2022-12-20T12:14:41.399234Z",
          "start_time": "2022-12-20T12:14:36.237795Z"
        },
        "id": "GaSIqC4aEcnn"
      },
      "outputs": [],
      "source": [
        "import torch\n",
        "import torchvision\n",
        "import torchvision.transforms as transforms\n",
        "import matplotlib.pyplot as plt\n",
        "import numpy as np\n",
        "import torch.nn as nn\n",
        "import torch.optim as optim\n",
        "\n",
        "%matplotlib inline\n",
        "plt.rcParams['figure.figsize'] = (12.0, 8.0) # set default size of plots\n",
        "plt.rcParams['image.interpolation'] = 'nearest'\n",
        "plt.rcParams['image.cmap'] = 'gray'"
      ]
    },
    {
      "cell_type": "markdown",
      "metadata": {
        "id": "Kt7M7A6xEcno"
      },
      "source": [
        "# Convolutional Neural Network - Classifiying CIFAR-10 (40 points)\n",
        "\n",
        "So far we had to manually implement both the forward and backward passes of our neural network. Manually implementing the backward pass is not a big deal for a small two-layer network, but can quickly get very messy for large complex networks.\n",
        "\n",
        "Thankfully, we can use **automatic differentiation** to automate the computation of backward passes in neural networks. The autograd package in PyTorch provides exactly this functionality. When using autograd, the forward pass of your network will define a computational graph. Nodes in the graph will be Tensors,\n",
        "and edges will be functions that produce output Tensors from input Tensors. Backpropagating through this graph then allows you to easily compute gradients.\n",
        "\n",
        "If we want to compute gradients with respect to some Tensor, then we set `requires_grad=True` when constructing that Tensor. Any PyTorch operations on that Tensor will cause a computational graph to be constructed, allowing us to later perform backpropagation through the graph. If `x` is a Tensor with `requires_grad=True`, then after backpropagation `x.grad` will be another Tensor holding the gradient of `x`.\n",
        "\n",
        "Sometimes you may wish to prevent PyTorch from building computational graphs when performing certain operations on Tensors with `requires_grad=True`; for example, we usually don't want to backpropagate through the weight update steps when evaluating a neural network. In such scenarios we can use the `torch.no_grad()` context manager to prevent the construction of a computational graph.\n",
        "\n",
        "In this exercise, you will accomplish the following:\n",
        "1. Train a convolutional network using PyTorch.\n",
        "2. Evaluate your model using a confusion matrix.\n",
        "3. Solve the localization task using regression."
      ]
    },
    {
      "cell_type": "markdown",
      "metadata": {
        "id": "jzW2UFThEcnp"
      },
      "source": [
        "### Data Preprocessing"
      ]
    },
    {
      "cell_type": "code",
      "execution_count": 2,
      "metadata": {
        "ExecuteTime": {
          "end_time": "2023-05-05T09:53:44.131779Z",
          "start_time": "2023-05-05T09:53:44.121798Z"
        },
        "scrolled": true,
        "colab": {
          "base_uri": "https://localhost:8080/"
        },
        "id": "OUwGiFYSEcnq",
        "outputId": "ed5bb63d-4548-4303-83ed-9752fc1d128b"
      },
      "outputs": [
        {
          "output_type": "stream",
          "name": "stdout",
          "text": [
            "Downloading https://www.cs.toronto.edu/~kriz/cifar-10-python.tar.gz to ./data/cifar-10-python.tar.gz\n"
          ]
        },
        {
          "output_type": "stream",
          "name": "stderr",
          "text": [
            "100%|██████████| 170498071/170498071 [00:03<00:00, 47709910.09it/s]\n"
          ]
        },
        {
          "output_type": "stream",
          "name": "stdout",
          "text": [
            "Extracting ./data/cifar-10-python.tar.gz to ./data\n",
            "Files already downloaded and verified\n"
          ]
        }
      ],
      "source": [
        "transform = transforms.Compose(\n",
        "    [transforms.ToTensor(),\n",
        "     transforms.Normalize((0.5, 0.5, 0.5), (0.5, 0.5, 0.5))])\n",
        "\n",
        "trainset = torchvision.datasets.CIFAR10(root='./data', train=True, download=True, transform=transform)\n",
        "trainloader = torch.utils.data.DataLoader(trainset, batch_size=64, shuffle=True, num_workers=2)\n",
        "\n",
        "testset = torchvision.datasets.CIFAR10(root='./data', train=False, download=True, transform=transform)\n",
        "testloader = torch.utils.data.DataLoader(testset, batch_size=64, shuffle=False, num_workers=2)\n",
        "\n",
        "classes = ('plane', 'car', 'bird', 'cat', 'deer', 'dog', 'frog', 'horse', 'ship', 'truck')"
      ]
    },
    {
      "cell_type": "code",
      "execution_count": 3,
      "metadata": {
        "ExecuteTime": {
          "end_time": "2022-11-03T06:23:13.242836Z",
          "start_time": "2022-11-03T06:23:03.342019Z"
        },
        "colab": {
          "base_uri": "https://localhost:8080/",
          "height": 341
        },
        "id": "9jEdyZmVEcnr",
        "outputId": "a6804708-3581-47ed-f91f-19df0f302572"
      },
      "outputs": [
        {
          "output_type": "stream",
          "name": "stdout",
          "text": [
            "Image shape:  torch.Size([3, 32, 32])\n",
            "       dog        car        dog        cat\n"
          ]
        },
        {
          "output_type": "display_data",
          "data": {
            "text/plain": [
              "<Figure size 1200x800 with 1 Axes>"
            ],
            "image/png": "[encoded data removed]"
          },
          "metadata": {}
        }
      ],
      "source": [
        "# functions to show an image\n",
        "def imshow(img):\n",
        "    img = img / 2 + 0.5     # unnormalize\n",
        "    npimg = img.numpy()\n",
        "    plt.imshow(np.transpose(npimg, (1, 2, 0))) # plt accepts images in the format (w,h,c)\n",
        "\n",
        "# get some random training images\n",
        "dataiter = iter(trainloader)\n",
        "images, labels = next(dataiter)\n",
        "\n",
        "print(\"Image shape: \", images[0].shape)\n",
        "# show images\n",
        "imshow(torchvision.utils.make_grid(images[:4]))\n",
        "# print labels\n",
        "print(' '.join('%10s' % classes[labels[j]] for j in range(4)))"
      ]
    },
    {
      "cell_type": "markdown",
      "metadata": {
        "id": "CjRErdvuEcnr"
      },
      "source": [
        "### Construct a CNN in PyTorch\n",
        "\n",
        "In the following class, initiate your different layers in the `__init__` method and define your architecture in the `forward` method. Make sure the `forward` method has a single return value.\n",
        "\n",
        "1. Make good use of the documentation and experiment will different layers, activations and architectures, batch sizes, regularization, filter sizes, dimensions, number of layers and whatever you learned in class.\n",
        "2. Use your intuition from the previous exercises and additional sources such as the stackoverflow, Medium, etc. - **do not try to perform a massive grid search.**\n",
        "3. **Include only your chosen architecture**. During experimentation, you may add as many cells as you need. Make sure to delete them before submission.\n",
        "4. It is not allowed to use famous models that have been already implemented by PyTorch (resnet, densenet, alexnet, etc).\n",
        "5. Make sure your code runs reasonably fast (no more than 15 minutes on CPU).\n",
        "6. Use the best architecture you find and train it for 1-10 epochs.\n",
        "7. Visualize the loss and accuracy of your network during training. You can use matplotlib.\n",
        "8. You should get above 60% accuracy on the test set.\n",
        "**(20 points)**"
      ]
    },
    {
      "cell_type": "code",
      "execution_count": 4,
      "metadata": {
        "id": "D1333y5aEcns"
      },
      "outputs": [],
      "source": [
        "class Net(nn.Module):\n",
        "    def __init__(self):\n",
        "        super(Net, self).__init__()\n",
        "        #############################################################################\n",
        "        # TO DO:                                                                    #\n",
        "        # Initiate the different layers you wish to use in your network.            #\n",
        "        # This method has no return value.                                          #\n",
        "        #############################################################################\n",
        "        self.conv1 = nn.Conv2d(3,32,3,padding=1)\n",
        "        self.bn1 = nn.BatchNorm2d(32)\n",
        "        self.pool1 = nn.MaxPool2d(2,2)\n",
        "        self.conv2 = nn.Conv2d(32,64,3,padding=1)\n",
        "        self.bn2 = nn.BatchNorm2d(64)\n",
        "        self.pool2 = nn.MaxPool2d(2,2)\n",
        "        self.fc1 = nn.Linear(64*8*8, 1024)\n",
        "        self.dropout = nn.Dropout(0.5)\n",
        "        self.fc2 = nn.Linear(1024,10)\n",
        "        #############################################################################\n",
        "        #                             END OF YOUR CODE                              #\n",
        "        #############################################################################\n",
        "\n",
        "    def forward(self, x):\n",
        "        #############################################################################\n",
        "        # TO DO:                                                                    #\n",
        "        # Define the forward propagation. You need to pass an image through the     #\n",
        "        # network and obtain class predictions.                                     #\n",
        "        # This function returns the predication of your model.                      #\n",
        "        #############################################################################\n",
        "        x = self.pool1(nn.functional.relu(self.bn1(self.conv1(x))))\n",
        "        x = self.pool2(nn.functional.relu(self.bn2(self.conv2(x))))\n",
        "        x = x.view(x.shape[0], -1)\n",
        "        x = self.dropout(nn.functional.relu(self.fc1(x)))\n",
        "        x = self.fc2(x)\n",
        "\n",
        "        return x\n",
        "        #############################################################################\n",
        "        #                             END OF YOUR CODE                              #\n",
        "        #############################################################################\n",
        "\n",
        "net = Net()\n",
        "criterion = None\n",
        "optimizer = None\n",
        "#############################################################################\n",
        "# TO DO:                                                                    #\n",
        "# Define the loss function and optimizer.                                   #\n",
        "#############################################################################\n",
        "criterion = nn.CrossEntropyLoss()\n",
        "optimizer = optim.SGD(net.parameters(), lr= 5e-3, momentum = 0.9)\n",
        "#############################################################################\n",
        "#                             END OF YOUR CODE                              #\n",
        "#############################################################################"
      ]
    },
    {
      "cell_type": "code",
      "execution_count": 5,
      "metadata": {
        "id": "DC1XXCtMEcns",
        "colab": {
          "base_uri": "https://localhost:8080/"
        },
        "outputId": "25a20560-9367-43f2-ffb2-97cb36f01349"
      },
      "outputs": [
        {
          "output_type": "stream",
          "name": "stdout",
          "text": [
            "[1,   200] loss: 0.167\n",
            "[1,   400] loss: 0.139\n",
            "[1,   600] loss: 0.128\n",
            "[2,   200] loss: 0.112\n",
            "[2,   400] loss: 0.107\n",
            "[2,   600] loss: 0.105\n",
            "[3,   200] loss: 0.094\n",
            "[3,   400] loss: 0.093\n",
            "[3,   600] loss: 0.089\n",
            "[4,   200] loss: 0.081\n",
            "[4,   400] loss: 0.080\n",
            "[4,   600] loss: 0.080\n",
            "[5,   200] loss: 0.071\n",
            "[5,   400] loss: 0.072\n",
            "[5,   600] loss: 0.072\n",
            "Finished Training\n"
          ]
        }
      ],
      "source": [
        "#############################################################################\n",
        "# TO DO:                                                                    #\n",
        "# Define the training loop as seen in class and as demonstrated in the      #\n",
        "# documentation. Note, if you are using GPU, make sure your code runs on    #\n",
        "# CPU also. Code that cannot run will not be tested.                        #\n",
        "#############################################################################\n",
        "device = (\n",
        "    \"cuda\" if torch.cuda.is_available()\n",
        "    else \"cpu\"\n",
        ")\n",
        "net = net.to(device)\n",
        "# for epoch in range(3):\n",
        "#     for i,batch in enumerate(trainloader):\n",
        "#         inputs, labels = batch\n",
        "#         inputs, labels = inputs.to(device), labels.to(device)\n",
        "\n",
        "#         optimizer.zero_grad()\n",
        "#         outputs = net.forward(inputs)\n",
        "#         loss = criterion(outputs, labels)\n",
        "#         loss.backward()\n",
        "#         optimizer.step()\n",
        "\n",
        "#         if i==200:\n",
        "#             print(loss)\n",
        "\n",
        "for epoch in range(5):  # loop over the dataset multiple times\n",
        "\n",
        "    running_loss = 0.0\n",
        "    for i, data in enumerate(trainloader):\n",
        "        inputs, labels = data\n",
        "        inputs, labels = inputs.to(device), labels.to(device)\n",
        "        optimizer.zero_grad()\n",
        "\n",
        "        outputs = net(inputs)\n",
        "        loss = criterion(outputs, labels)\n",
        "        loss.backward()\n",
        "        optimizer.step()\n",
        "\n",
        "        running_loss += loss.item()\n",
        "        if i % 200 == 199:\n",
        "            print('[%d, %5d] loss: %.3f' %\n",
        "                  (epoch + 1, i + 1, running_loss / 2000))\n",
        "            running_loss = 0.0\n",
        "\n",
        "print('Finished Training')\n",
        "\n",
        "#############################################################################\n",
        "#                             END OF YOUR CODE                              #\n",
        "#############################################################################"
      ]
    },
    {
      "cell_type": "markdown",
      "metadata": {
        "id": "hlcFaImKEcnt"
      },
      "source": [
        "## Model evaluation\n",
        "\n",
        "Calculate the model accuracy and print a confusion matrix where in y axis represents the real category and the x axis represents the predicted category. **(10 points)**"
      ]
    },
    {
      "cell_type": "code",
      "execution_count": 10,
      "metadata": {
        "id": "wPtj53UJEcnt",
        "colab": {
          "base_uri": "https://localhost:8080/"
        },
        "outputId": "e97f913f-9685-4298-a95b-43806c9b6356"
      },
      "outputs": [
        {
          "output_type": "stream",
          "name": "stdout",
          "text": [
            "Model accuracy on 10000 test images: 0.72%\n"
          ]
        }
      ],
      "source": [
        "confusion_matrix = np.zeros([10,10], int)\n",
        "model_accuracy = 0\n",
        "#############################################################################\n",
        "# TO DO:                                                                    #\n",
        "# Define the evaluation loop as seen in class and as demonstrated in the    #\n",
        "# documentation and use the confusion matrix to evaluate your model.        #\n",
        "#############################################################################\n",
        "with torch.no_grad():\n",
        "    for images, labels in testloader:\n",
        "        images, labels = images.to(device), labels.to(device)\n",
        "        outputs = net(images)\n",
        "        _, preds = torch.max(outputs.data, 1)\n",
        "        confusion_matrix[labels.to(\"cpu\"),preds.to(\"cpu\")] += 1\n",
        "        model_accuracy += (preds == labels).sum().item()\n",
        "\n",
        "model_accuracy /= testset.data.shape[0]\n",
        "#############################################################################\n",
        "#                             END OF YOUR CODE                              #\n",
        "#############################################################################\n",
        "print('Model accuracy on {0} test images: {1:.2f}%'.format(len(testset), model_accuracy))"
      ]
    },
    {
      "cell_type": "code",
      "execution_count": 11,
      "metadata": {
        "id": "p5WdCxR6Ecnu",
        "colab": {
          "base_uri": "https://localhost:8080/",
          "height": 547
        },
        "outputId": "9459dce8-3714-4cf1-a836-dc110812eaee"
      },
      "outputs": [
        {
          "output_type": "display_data",
          "data": {
            "text/plain": [
              "<Figure size 800x600 with 1 Axes>"
            ],
            "image/png": "[encoded data removed]"
          },
          "metadata": {}
        }
      ],
      "source": [
        "fig, ax = plt.subplots(1,1,figsize=(8,6))\n",
        "ax.matshow(confusion_matrix, aspect='auto', vmin=0, vmax=1000, cmap=plt.get_cmap('Blues'))\n",
        "plt.ylabel('Actual Category')\n",
        "plt.yticks(range(10), classes)\n",
        "plt.xlabel('Predicted Category')\n",
        "plt.xticks(range(10), classes)\n",
        "plt.show()"
      ]
    },
    {
      "cell_type": "markdown",
      "metadata": {
        "ExecuteTime": {
          "end_time": "2022-11-03T06:36:16.100449Z",
          "start_time": "2022-11-03T06:36:16.075931Z"
        },
        "id": "T7ctqd5eEcnu"
      },
      "source": [
        "##**Question:**\n",
        "Describe your experiments.\n",
        "What parameters have you experimented with? What works and what doesn't? Why?   **(5 Points)**\n",
        "\n",
        "**Your answer:** *Fill this in*"
      ]
    },
    {
      "cell_type": "markdown",
      "metadata": {
        "id": "_48oA1tWEcnu"
      },
      "source": [
        "##**Question:**\n",
        "What can you learn from the confusion matrix? Why do you need additional evaluation methods other than accuracy? **(5 Points)**\n",
        "\n",
        "**Your answer:** *Fill this in*"
      ]
    },
    {
      "cell_type": "markdown",
      "metadata": {
        "id": "K__zYzixEcnu"
      },
      "source": [
        "# Localization as Regression (60 points)\n",
        "\n",
        "In the next part, we will use a well known architecture called ResNet18 that was trained on ImageNet, a dataset far more rich than CIFAR10. ImageNet has 1,000 classes and 1,000,000 images. In this part, we will use the features extracted from ResNet18 to localize and classify images of cats and dogs.\n",
        "\n",
        "Using a pretrained network as a building block for a more complicated task is at the heart of neural networks today. By leveraging the features ResNet18 extracts, we can train a model that can correctly classify and localize cats and dogs using very few images."
      ]
    },
    {
      "cell_type": "code",
      "execution_count": 12,
      "metadata": {
        "ExecuteTime": {
          "end_time": "2022-11-03T06:47:54.427755Z",
          "start_time": "2022-11-03T06:47:54.378583Z"
        },
        "id": "vllsfOvBEcnu",
        "colab": {
          "base_uri": "https://localhost:8080/",
          "height": 394
        },
        "outputId": "2725078d-f4ce-440e-dbd1-7878211d155c"
      },
      "outputs": [
        {
          "output_type": "error",
          "ename": "ModuleNotFoundError",
          "evalue": "No module named 'data.dataloader'",
          "traceback": [
            "\u001b[0;31m---------------------------------------------------------------------------\u001b[0m",
            "\u001b[0;31mModuleNotFoundError\u001b[0m                       Traceback (most recent call last)",
            "\u001b[0;32m<ipython-input-12-30fc0a62f1c4>\u001b[0m in \u001b[0;36m<cell line: 2>\u001b[0;34m()\u001b[0m\n\u001b[1;32m      1\u001b[0m \u001b[0;32mimport\u001b[0m \u001b[0mtorchvision\u001b[0m\u001b[0;34m.\u001b[0m\u001b[0mtransforms\u001b[0m \u001b[0;32mas\u001b[0m \u001b[0mtransforms\u001b[0m\u001b[0;34m\u001b[0m\u001b[0;34m\u001b[0m\u001b[0m\n\u001b[0;32m----> 2\u001b[0;31m \u001b[0;32mfrom\u001b[0m \u001b[0mdata\u001b[0m\u001b[0;34m.\u001b[0m\u001b[0mdataloader\u001b[0m \u001b[0;32mimport\u001b[0m \u001b[0;34m*\u001b[0m\u001b[0;34m\u001b[0m\u001b[0;34m\u001b[0m\u001b[0m\n\u001b[0m\u001b[1;32m      3\u001b[0m \u001b[0;32mfrom\u001b[0m \u001b[0mtorchvision\u001b[0m\u001b[0;34m.\u001b[0m\u001b[0mmodels\u001b[0m \u001b[0;32mimport\u001b[0m \u001b[0mresnet18\u001b[0m\u001b[0;34m,\u001b[0m \u001b[0mResNet18_Weights\u001b[0m\u001b[0;34m\u001b[0m\u001b[0;34m\u001b[0m\u001b[0m\n\u001b[1;32m      4\u001b[0m \u001b[0;32mimport\u001b[0m \u001b[0mmatplotlib\u001b[0m\u001b[0;34m.\u001b[0m\u001b[0mpyplot\u001b[0m \u001b[0;32mas\u001b[0m \u001b[0mplt\u001b[0m\u001b[0;34m\u001b[0m\u001b[0;34m\u001b[0m\u001b[0m\n\u001b[1;32m      5\u001b[0m \u001b[0;32mimport\u001b[0m \u001b[0mmatplotlib\u001b[0m\u001b[0;34m.\u001b[0m\u001b[0mpatches\u001b[0m \u001b[0;32mas\u001b[0m \u001b[0mpatches\u001b[0m\u001b[0;34m\u001b[0m\u001b[0;34m\u001b[0m\u001b[0m\n",
            "\u001b[0;31mModuleNotFoundError\u001b[0m: No module named 'data.dataloader'",
            "",
            "\u001b[0;31m---------------------------------------------------------------------------\u001b[0;32m\nNOTE: If your import is failing due to a missing package, you can\nmanually install dependencies using either !pip or !apt.\n\nTo view examples of installing some common dependencies, click the\n\"Open Examples\" button below.\n\u001b[0;31m---------------------------------------------------------------------------\u001b[0m\n"
          ],
          "errorDetails": {
            "actions": [
              {
                "action": "open_url",
                "actionText": "Open Examples",
                "url": "/notebooks/snippets/importing_libraries.ipynb"
              }
            ]
          }
        }
      ],
      "source": [
        "import torchvision.transforms as transforms\n",
        "from data.dataloader import *\n",
        "from torchvision.models import resnet18, ResNet18_Weights\n",
        "import matplotlib.pyplot as plt\n",
        "import matplotlib.patches as patches\n",
        "import torchvision.models as models\n",
        "import torch.nn as nn\n",
        "from PIL import Image\n",
        "import collections\n",
        "import time\n",
        "import copy\n",
        "import sys\n",
        "import os"
      ]
    },
    {
      "cell_type": "markdown",
      "metadata": {
        "id": "ZNXyK67BEcnu"
      },
      "source": [
        "To load ResNet18 with the pretrained weights, use the following line. You are welcome to try different architectures, however they might require different input sizes or normalization.\n",
        "\n",
        "The first time you run this cell the weights will be downloaded."
      ]
    },
    {
      "cell_type": "code",
      "execution_count": null,
      "metadata": {
        "ExecuteTime": {
          "end_time": "2022-11-03T06:47:56.251852Z",
          "start_time": "2022-11-03T06:47:55.703790Z"
        },
        "id": "c6fO_bw2Ecnv"
      },
      "outputs": [],
      "source": [
        "resnet18 = resnet18(weights=ResNet18_Weights.DEFAULT)"
      ]
    },
    {
      "cell_type": "markdown",
      "metadata": {
        "id": "0TwjIf71Ecnv"
      },
      "source": [
        "ResNet takes as input images of size (224,224). We will use PyTorch Transforms to change the size of the images. When ResNet18 was trained on ImageNet, the images were normalized using the mean and standard deviation of the images. In order to properly use the weights, we will use the same normalization."
      ]
    },
    {
      "cell_type": "code",
      "execution_count": null,
      "metadata": {
        "ExecuteTime": {
          "end_time": "2022-11-03T06:48:50.701015Z",
          "start_time": "2022-11-03T06:48:50.645749Z"
        },
        "id": "nIVdYz-kEcnv"
      },
      "outputs": [],
      "source": [
        "data_transforms = {\n",
        "    'train': transforms.Compose([\n",
        "        Rescale((224,224)),\n",
        "        ToTensor(),\n",
        "        Normalize([0.485, 0.456, 0.406], [0.229, 0.224, 0.225]) # normalizing according to imagenet\n",
        "    ]),\n",
        "    'val': transforms.Compose([\n",
        "        Rescale((224,224)),\n",
        "        ToTensor(),\n",
        "        Normalize([0.485, 0.456, 0.406], [0.229, 0.224, 0.225])\n",
        "    ]),\n",
        "}\n",
        "root_dir = \"data/animals/\"\n",
        "datasets = {x: VOCDetection(root_dir, image_set=x, transform=data_transforms[x])\n",
        "                  for x in ['train', 'val']}\n",
        "dataloaders = {x: torch.utils.data.DataLoader(datasets[x], batch_size=32, shuffle=True, num_workers=4)\n",
        "              for x in ['train', 'val']}\n",
        "dataset_sizes = {x: len(datasets[x]) for x in ['train', 'val']}\n",
        "classes = datasets['train'].classes\n",
        "device = torch.device(\"cuda:0\" if torch.cuda.is_available() else \"cpu\")\n",
        "\n",
        "print(dataset_sizes)"
      ]
    },
    {
      "cell_type": "code",
      "execution_count": null,
      "metadata": {
        "ExecuteTime": {
          "end_time": "2022-11-03T06:48:59.538834Z",
          "start_time": "2022-11-03T06:48:55.845410Z"
        },
        "id": "b5Sh4DRLEcnv"
      },
      "outputs": [],
      "source": [
        "# Get a batch of training data\n",
        "sample = next(iter(dataloaders['train']))"
      ]
    },
    {
      "cell_type": "code",
      "execution_count": null,
      "metadata": {
        "ExecuteTime": {
          "end_time": "2022-11-03T13:42:45.176992Z",
          "start_time": "2022-11-03T13:42:44.466434Z"
        },
        "id": "J3BTsQ05Ecnv"
      },
      "outputs": [],
      "source": [
        "def imshow(img, label, bbox):\n",
        "    image = np.copy(img[0])\n",
        "    image = np.transpose(image, (1, 2, 0))\n",
        "    image *= np.array([0.229, 0.224, 0.225])\n",
        "    image += np.array([0.485, 0.456, 0.406])\n",
        "    label = label[0]\n",
        "    bbox = bbox[0]\n",
        "    plt.figure();\n",
        "    fig, ax = plt.subplots(1, figsize=(12,9));\n",
        "    ax.imshow(image);\n",
        "    x1, y1, x2, y2 = bbox.numpy().reshape(-1) * 224\n",
        "    box_w, box_h = np.abs(x2-x1), np.abs(y2-y1)\n",
        "    bbox = patches.Rectangle((x1, y1), box_w, box_h, linewidth=2,\n",
        "                             edgecolor='r', facecolor='none');\n",
        "    ax.add_patch(bbox);\n",
        "    ax.annotate(classes[label], (x1, y1), color='r', fontsize=14);\n",
        "\n",
        "imshow(sample['image'],sample['label'],sample['bbox'])"
      ]
    },
    {
      "cell_type": "code",
      "execution_count": null,
      "metadata": {
        "ExecuteTime": {
          "end_time": "2022-11-03T13:42:48.611496Z",
          "start_time": "2022-11-03T13:42:48.580819Z"
        },
        "id": "OYf3_nLPEcnw"
      },
      "outputs": [],
      "source": [
        "class CNN(nn.Module):\n",
        "    def __init__(self, num_classes):\n",
        "        super(CNN, self).__init__()\n",
        "        #############################################################################\n",
        "        # TO DO:                                                                    #\n",
        "        # Load the pretrained ResNet-18 network and replace the top fully connected #\n",
        "        # layer, so we could use the features of the network and not the only       #\n",
        "        # the classification layer which carries significantly less information.    #\n",
        "        # Afterwards, create a new sequential model with the remaining layers of    #\n",
        "        # the pretrained network. Next, define two additional models that take as   #\n",
        "        # input the extracted features and output the class scores and bounding box #\n",
        "        # coordinates.                                                              #\n",
        "        # Clarrification - You required to build 2 models - one for classification  #\n",
        "        # and one for detection.                                                    #\n",
        "        # The classification model is of shape: resent_features -> FC/FCs -> scores.#\n",
        "        # The detection model is of shape: resent_features -> FC/FCs -> bbox.       #\n",
        "        # You may train/leave frozen the resent_features backbone, try              #\n",
        "        # experimenting with it.                                                    #\n",
        "        # This function has no return value.                                        #\n",
        "        #############################################################################\n",
        "        pass\n",
        "        #############################################################################\n",
        "        #                             END OF YOUR CODE                              #\n",
        "        #############################################################################\n",
        "\n",
        "    def forward(self, images):\n",
        "        #############################################################################\n",
        "        # TO DO:                                                                    #\n",
        "        # Define the forward propagation. You need to pass an image through the     #\n",
        "        # network and extract the feature vector. In this case, when using a        #\n",
        "        # predefined network, you don't want to change it's weights.                #\n",
        "        # The rest of the layers you defined should accepts gradients for them to   #\n",
        "        # improve during training.                                                  #\n",
        "        # This function returns a class predication and a bounding box coordinates. #\n",
        "        #############################################################################\n",
        "        pass\n",
        "        #############################################################################\n",
        "        #                             END OF YOUR CODE                              #\n",
        "        #############################################################################"
      ]
    },
    {
      "cell_type": "markdown",
      "metadata": {
        "id": "pHXtlKxBEcnw"
      },
      "source": [
        "## Guidelines\n",
        "\n",
        "1. Complete the `train_model` function in the cell below. This function takes as input the model and additional hyper-parameters, and outputs the best model found on the validation set.\n",
        "2. To babysit the learning process, **you must track the classification accuracy, IoU score and loss on the training and validation datasets and visualize them** (using matplotlib or similar). I have included an implementation of the IoU metric in the file `data\\dataloader.py`.\n",
        "3. Do not perform a massive grid search. Use papers, blogs, MOOCs and online guides to research best hyper-parameters for your model.\n",
        "4. You are encouraged to try Google Colab. If you have an CUDA capable GPU at home - you are welcome to use it.\n",
        "5. **Include only your chosen architecture**. During experimentation, you may add as many cells as you need. Make sure to delete them before submission.\n",
        "6. Training large neural networks may take a while. Make sure your code runs reasonably fast (~15 minutes on CPU and ~5 minutes on GPU).\n",
        "7. Try to reach at least 90% classification accuracy and a IOU score of at least 0.60 on the validation set.\n",
        "8. **In order to get full marks for this section explain the results and include visualizations.**.\n",
        "9. You are given a general skeleton for the training function. Feel free to use any different structure."
      ]
    },
    {
      "cell_type": "code",
      "execution_count": null,
      "metadata": {
        "ExecuteTime": {
          "end_time": "2022-11-03T13:42:50.832283Z",
          "start_time": "2022-11-03T13:42:50.792639Z"
        },
        "id": "4EteVuO1Ecnw"
      },
      "outputs": [],
      "source": [
        "def train_model(model, criterion_cls, criterion_bbox, optimizer, scheduler=None, num_epochs=5):\n",
        "    since = time.time()\n",
        "    best_model_wts = copy.deepcopy(model.state_dict()) # this is how a model is copied\n",
        "    best_acc = 0.0\n",
        "\n",
        "    for epoch in range(num_epochs):\n",
        "        print('Epoch {}/{}'.format(epoch+1, num_epochs))\n",
        "        print('-' * 10)\n",
        "\n",
        "        # Each epoch has a training and validation phase\n",
        "        for phase in ['train', 'val']:\n",
        "            if phase == 'train':\n",
        "                model.train()  # Set model to training mode\n",
        "            else:\n",
        "                model.eval()   # Set model to evaluate mode\n",
        "\n",
        "            running_loss = 0.0   # total loss of the network at each epoch\n",
        "            running_corrects = 0 # number of correct predictions\n",
        "            iou = 0.0            # IoU score\n",
        "\n",
        "            # Iterate over data.\n",
        "            for sample in dataloaders[phase]:\n",
        "                #############################################################################\n",
        "                # TO DO:                                                                    #\n",
        "                # Extract the data from the dataloader, calculate the predictions of your   #\n",
        "                # network and calculate the loss of the classification and bounding box     #\n",
        "                # prediction. When in training mode, back-prop and update the weights.      #\n",
        "                # At each epoch, calculate the test and train accuracy and IoU.             #\n",
        "                # This function returns the best model in terms of accuracy.                #\n",
        "                #############################################################################\n",
        "                pass\n",
        "                #############################################################################\n",
        "                #                             END OF YOUR CODE                              #\n",
        "                #############################################################################\n",
        "\n",
        "            epoch_loss = running_loss / dataset_sizes[phase]\n",
        "            epoch_acc = running_corrects.double() / dataset_sizes[phase]\n",
        "            iou = iou.item() / dataset_sizes[phase]\n",
        "\n",
        "            print('{} Loss: {:.4f}  |  Acc: {:.4f}  |  IOU: {:.4f}'.format(\n",
        "                phase, epoch_loss, epoch_acc, iou))\n",
        "\n",
        "            # deep copy the model\n",
        "            if phase == 'val' and epoch_acc > best_acc:\n",
        "                best_acc = epoch_acc\n",
        "                best_model_wts = copy.deepcopy(model.state_dict())\n",
        "\n",
        "    time_elapsed = time.time() - since\n",
        "    print('Training complete in {:.0f}m {:.0f}s'.format(\n",
        "        time_elapsed // 60, time_elapsed % 60))\n",
        "    print('Best val Acc: {:4f}'.format(best_acc))\n",
        "\n",
        "    # load best model weights\n",
        "    model.load_state_dict(best_model_wts)\n",
        "    return model"
      ]
    },
    {
      "cell_type": "markdown",
      "metadata": {
        "id": "gZtodaT3Ecnw"
      },
      "source": [
        "Choose your optimizer and the loss functions for the classification and bounding box regression."
      ]
    },
    {
      "cell_type": "code",
      "execution_count": null,
      "metadata": {
        "ExecuteTime": {
          "end_time": "2022-11-03T13:42:53.965679Z",
          "start_time": "2022-11-03T13:42:53.933546Z"
        },
        "id": "-C1JDPeVEcnw"
      },
      "outputs": [],
      "source": [
        "import torch.optim as optim\n",
        "\n",
        "cnn = CNN(2)\n",
        "cnn = cnn.to(device)\n",
        "\n",
        "criterion_cls = None\n",
        "criterion_bbox = None\n",
        "optimizer = None\n",
        "#############################################################################\n",
        "#                           START OF YOUR CODE                              #\n",
        "#############################################################################\n",
        "pass\n",
        "#############################################################################\n",
        "#                             END OF YOUR CODE                              #\n",
        "#############################################################################"
      ]
    },
    {
      "cell_type": "code",
      "execution_count": null,
      "metadata": {
        "scrolled": false,
        "id": "zlWDWvx9Ecnw"
      },
      "outputs": [],
      "source": [
        "best_model = train_model(cnn, criterion_cls, criterion_bbox, optimizer, num_epochs=10)"
      ]
    },
    {
      "cell_type": "markdown",
      "metadata": {
        "id": "kG7Lh_2ZEcnx"
      },
      "source": [
        "Once you are pleased with your results, see how your model can predict and localize cats and dogs!"
      ]
    },
    {
      "cell_type": "code",
      "execution_count": null,
      "metadata": {
        "id": "dncjLwkUEcnx"
      },
      "outputs": [],
      "source": [
        "# Get a batch of validation data\n",
        "sample = next(iter(dataloaders['val']))\n",
        "with torch.no_grad():\n",
        "    images = sample['image']\n",
        "    images = images.to(device)\n",
        "    label_pred, bbox_pred = best_model(images)\n",
        "    _, label_pred = torch.max(label_pred, 1)\n",
        "imshow(sample['image'], label_pred.cpu(), bbox_pred.cpu())"
      ]
    },
    {
      "cell_type": "markdown",
      "metadata": {
        "id": "MzfrtCPJEcnx"
      },
      "source": [
        "Your visualizations here (IoU / Accuracy / Loss on training and validation datasets as a function of the epoch). Only visualize the results of your best model."
      ]
    },
    {
      "cell_type": "code",
      "execution_count": null,
      "metadata": {
        "id": "Me90CX-mEcnx"
      },
      "outputs": [],
      "source": []
    }
  ],
  "metadata": {
    "kernelspec": {
      "display_name": "Python 3",
      "name": "python3"
    },
    "language_info": {
      "codemirror_mode": {
        "name": "ipython",
        "version": 3
      },
      "file_extension": ".py",
      "mimetype": "text/x-python",
      "name": "python",
      "nbconvert_exporter": "python",
      "pygments_lexer": "ipython3",
      "version": "3.9.13"
    },
    "toc": {
      "base_numbering": 1,
      "nav_menu": {},
      "number_sections": true,
      "sideBar": true,
      "skip_h1_title": false,
      "title_cell": "Table of Contents",
      "title_sidebar": "Contents",
      "toc_cell": false,
      "toc_position": {},
      "toc_section_display": true,
      "toc_window_display": false
    },
    "varInspector": {
      "cols": {
        "lenName": 16,
        "lenType": 16,
        "lenVar": 40
      },
      "kernels_config": {
        "python": {
          "delete_cmd_postfix": "",
          "delete_cmd_prefix": "del ",
          "library": "var_list.py",
          "varRefreshCmd": "print(var_dic_list())"
        },
        "r": {
          "delete_cmd_postfix": ") ",
          "delete_cmd_prefix": "rm(",
          "library": "var_list.r",
          "varRefreshCmd": "cat(var_dic_list()) "
        }
      },
      "types_to_exclude": [
        "module",
        "function",
        "builtin_function_or_method",
        "instance",
        "_Feature"
      ],
      "window_display": false
    },
    "colab": {
      "provenance": [],
      "gpuType": "T4"
    },
    "accelerator": "GPU"
  },
  "nbformat": 4,
  "nbformat_minor": 0
}